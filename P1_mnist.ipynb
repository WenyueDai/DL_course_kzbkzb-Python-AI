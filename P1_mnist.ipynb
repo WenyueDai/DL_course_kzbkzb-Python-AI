{
 "cells": [
  {
   "cell_type": "code",
   "execution_count": null,
   "id": "a21e7c59",
   "metadata": {},
   "outputs": [
    {
     "data": {
      "text/plain": [
       "device(type='cuda')"
      ]
     },
     "execution_count": 1,
     "metadata": {},
     "output_type": "execute_result"
    }
   ],
   "source": [
    "import torch\n",
    "import torch.nn as nn\n",
    "import matplotlib.pyplot as plt\n",
    "import torchvision\n",
    "\n",
    "# 设置硬件设备，如果有GPU则使用，没有则使用cpu\n",
    "# device = torch.device(\"cuda\" if torch.cuda.is_available() else \"cpu\")\n",
    "device = torch.device(\"cpu\")\n"
   ]
  },
  {
   "cell_type": "markdown",
   "id": "9e96a814",
   "metadata": {},
   "source": [
    "## 第一步：前期准备\n",
    "导入 PyTorch、torchvision、matplotlib 等包\n",
    "\n",
    "设置设备：GPU 如果有就用，没的话用 CPU\n",
    "\n",
    "```python\n",
    "device = torch.device(\"cuda\" if torch.cuda.is_available() else \"cpu\")\n",
    "```\n",
    "\n",
    "## 第二步：加载数据\n",
    "使用 torchvision.datasets.MNIST() 下载并加载数据\n",
    "\n",
    "DataLoader 用来分批次加载数据（batch size = 32）\n",
    "\n",
    "```python\n",
    "train_ds = torchvision.datasets.MNIST('data', train=True, transform=..., download=True)\n",
    "train_dl = torch.utils.data.DataLoader(train_ds, batch_size=32, shuffle=True)\n",
    "```\n",
    "\n",
    "## 第三步：构建神经网络（CNN）\n",
    "用 nn.Sequential 一次性定义网络结构（卷积、池化、全连接等）\n",
    "\n",
    "```python\n",
    "model = nn.Sequential(\n",
    "    nn.Conv2d(1, 16, kernel_size=3),\n",
    "    nn.ReLU(),\n",
    "    nn.MaxPool2d(2),\n",
    "    ...\n",
    ").to(device)\n",
    "```\n",
    "\n",
    "## 第四步：训练模型\n",
    "\n",
    "清空梯度： optimizer.zero_grad()\n",
    "计算损失反向传播： loss.backward()\n",
    "更新权重： optimizer.step()"
   ]
  },
  {
   "cell_type": "markdown",
   "id": "e2bca70a",
   "metadata": {},
   "source": [
    "<table><tr><td>torchvision.datasets.MNIST(root, train=True, transform=None, target_transform=None, download=False)</td></tr></table>"
   ]
  },
  {
   "cell_type": "markdown",
   "id": "512e3571",
   "metadata": {},
   "source": [
    "- root: 数据地址\n",
    "- train: True - training set; False - test set\n",
    "- download: True - download from oneline\n",
    "- transform: 选择数据转化函数\n",
    "- target_transform: 接受目标并对其进行转换的函数/转换。"
   ]
  },
  {
   "cell_type": "code",
   "execution_count": 2,
   "id": "2c9f21f4",
   "metadata": {},
   "outputs": [],
   "source": [
    "# 下载并加载MNIST数据集\n",
    "train_ds = torchvision.datasets.MNIST('data', \n",
    "                                        train=True, \n",
    "                                        transform=torchvision.transforms.ToTensor(), # 将数据类型转化为Tensor\n",
    "                                        download=True)\n",
    "\n",
    "test_ds  = torchvision.datasets.MNIST('data', \n",
    "                                      train=False, \n",
    "                                      transform=torchvision.transforms.ToTensor(), # 将数据类型转化为Tensor\n",
    "                                      download=True)"
   ]
  },
  {
   "cell_type": "markdown",
   "id": "aa4a6a06",
   "metadata": {},
   "source": [
    "<table><tr><td>torch.utils.data.DataLoader(dataset, batch_size=1, shuffle=None, sampler=None, batch_sampler=None, num_workers=0, collate_fn=None, pin_memory=False, drop_last=False, timeout=0, worker_init_fn=None, multiprocessing_context=None, generator=None, *, prefetch_factor=2, persistent_workers=False, pin_memory_device='')</td></tr></table>"
   ]
  },
  {
   "cell_type": "markdown",
   "id": "c7edaef2",
   "metadata": {},
   "source": [
    "- dataset: 加载的数据集\n",
    "- batch_size: 每批加载的样本大小，default=1\n",
    "- shuffle: If True, 每个epoch重新排列数据\n",
    "- sampler: 定义从数据集中抽取样品的策略。\n",
    "- batch_sampler: similar to sampler.\n",
    "- num_workers: 用于数据加载的子进程数。0表示数据将在主进程中加载, default 0"
   ]
  },
  {
   "cell_type": "code",
   "execution_count": 3,
   "id": "22b042f8",
   "metadata": {},
   "outputs": [],
   "source": [
    "batch_size = 16\n",
    "\n",
    "# 创建数据加载器\n",
    "# DataLoader是一个迭代器，可以在训练时按批次加载数据\n",
    "# shuffle=True表示每个epoch都会打乱数据顺序\n",
    "# batch_size指定每个批次的样本数量\n",
    "train_dl = torch.utils.data.DataLoader(train_ds, \n",
    "                                       batch_size=batch_size, \n",
    "                                       shuffle=True)\n",
    "\n",
    "test_dl  = torch.utils.data.DataLoader(test_ds, \n",
    "                                       batch_size=batch_size)"
   ]
  },
  {
   "cell_type": "code",
   "execution_count": 4,
   "id": "6891d273",
   "metadata": {},
   "outputs": [
    {
     "data": {
      "text/plain": [
       "torch.Size([16, 1, 28, 28])"
      ]
     },
     "execution_count": 4,
     "metadata": {},
     "output_type": "execute_result"
    }
   ],
   "source": [
    "# 数据的shape为：[batch_size, channel, height, weight]\n",
    "# 其中batch_size为自己设定，channel，height和weight分别是图片的通道数，高度和宽度。\n",
    "# 例如MNIST数据集的图片是单通道的28x28灰度图，所以shape为[batch_size, 1, 28, 28]\n",
    "# iter(train_dl) 将数据加载器转换为一个迭代器（iterator），使得我们可以使用 Python 的 next() 函数来逐个访问数据加载器中的元素。\n",
    "# 通过 next() 函数获取第一个批次的数据\n",
    "# 其中 imgs 是一个形状为 [batch_size, 1, 28, 28] 的张量，labels 是一个形状为 [batch_size] 的张量\n",
    "imgs, labels = next(iter(train_dl))\n",
    "imgs.shape"
   ]
  },
  {
   "cell_type": "code",
   "execution_count": 5,
   "id": "9e6437f9",
   "metadata": {},
   "outputs": [
    {
     "data": {
      "image/png": "[encoded data removed]",
      "text/plain": [
       "<Figure size 2000x500 with 16 Axes>"
      ]
     },
     "metadata": {},
     "output_type": "display_data"
    }
   ],
   "source": [
    "import numpy as np\n",
    "\n",
    " # 指定图片大小，图像大小为20宽、5高的绘图(单位为英寸inch)\n",
    "plt.figure(figsize=(20, 5)) \n",
    "for i, imgs in enumerate(imgs[:20]):\n",
    "    imgs = imgs.to(device)  # 将图片数据移动到指定的设备上\n",
    "    imgs = imgs.cpu()  # 将图片数据移动到CPU上，以便进行numpy转换\n",
    "    # np.squeeze() 函数用于去掉数组中维度为1的轴\n",
    "    # 例如，将形状为 [1, 28, 28] 的数组转换为 [28, 28]\n",
    "    # 这样可以方便地将图像数据传递给 matplotlib 进行绘图\n",
    "    npimg = np.squeeze(imgs.numpy())\n",
    "    # 将整个figure分成2行10列，绘制第i+1个子图。\n",
    "    plt.subplot(2, 10, i+1)\n",
    "    plt.imshow(npimg, cmap=plt.cm.binary)\n",
    "    plt.axis('off')\n",
    "    \n",
    "plt.show() "
   ]
  },
  {
   "cell_type": "code",
   "execution_count": 6,
   "id": "b52604a7",
   "metadata": {},
   "outputs": [],
   "source": [
    "import torch.nn.functional as F\n",
    "\n",
    "num_classes = 10  # 图片的类别数\n",
    "\n",
    "class Model(nn.Module):\n",
    "    \"\"\"定义一个卷积神经网络模型\"\"\"\n",
    "    def __init__(self):\n",
    "        super().__init__()\n",
    "         # nn.Conv2d为卷积层，用于提取图片的特征，传入参数为输入channel，输出channel，卷积核大小\n",
    "        self.conv1 = nn.Conv2d(1, 32, kernel_size=3)  # 第一层卷积,输入通道为1，输出通道为32，卷积核大小为3*3\n",
    "        # nn.Conv2d(in_channels, out_channels, kernel_size, stride=1, padding=0, dilation=1, groups=1, bias=True, padding_mode='zeros')\n",
    "        # nn.MaxPool2d为池化层，进行下采样，用更高层的抽象表示图像特征，传入参数为池化核大小\n",
    "        self.pool1 = nn.MaxPool2d(2)                  # 最大池化层，池化核大小为2*2\n",
    "        self.conv2 = nn.Conv2d(32, 64, kernel_size=3) # 第二层卷积,输入通道为32，输出通道为64，卷积核大小为3*3  \n",
    "        self.pool2 = nn.MaxPool2d(2) # 最大池化层，池化核大小为2*2\n",
    "                                      \n",
    "        # 分类网络\n",
    "        # nn.Linear为全连接层，，可以起到特征提取器的作用，最后一层的全连接层也可以认为是输出层，传入参数为输入特征数和输出特征数\n",
    "        # 输入特征数为64，输出特征数为num_classes（10）\n",
    "        # 这里的1600是根据输入图片大小和卷积层、池化层的参数计算得出的。\n",
    "        # 经过两次卷积和池化后，图片的大小从28x28变为4x4，所以输入特征数为64*4*4=1600\n",
    "        self.fc1 = nn.Linear(1600, 64)        \n",
    "        # 第二个全连接层，输入特征数为64，输出特征数为num_classes（10）\n",
    "        # 这里的num_classes是图片的类别数\n",
    "        # 对于MNIST数据集，num_classes=10\n",
    "        # 这意味着模型将输出一个长度为10的向量，每个元素表示对应类别的预测分数\n",
    "        # 最终的分类结果将通过softmax函数转换为概率分布\n",
    "        # softmax函数将输出向量中的每个元素转换为一个概率值，所有概率值的和为1\n",
    "        # 例如，如果输出向量是[2.0, 1.0, 0.5, ..., 0.1]，\n",
    "        # 则softmax函数将其转换为[0.7, 0.2, 0.1, ..., 0.01]，表示模型认为第一个类别的概率为70%，第二个类别的概率为20%，第三个类别的概率为10%，等等。       \n",
    "        self.fc2 = nn.Linear(64, num_classes)\n",
    "\n",
    "    # 定义前向传播函数\n",
    "    # 前向传播函数定义了数据如何通过模型进行处理\n",
    "    # 在这个函数中，我们将输入数据通过卷积层、池化层和全连接层进行处理，最终得到输出结果\n",
    "    # 输入参数x是一个形状为 [batch_size, 1, 28, 28] 的张量，表示一批次的图片数据\n",
    "    # 输出结果是一个形状为 [batch_size, num_classes] 的张量，表示每个样本的预测分数\n",
    "    # 其中 batch_size 是每个批次的样本数量，num_classes 是图片的类别数\n",
    "    def forward(self, x):\n",
    "        # 将输入数据通过卷积层和池化层进行处理\n",
    "        # F.relu() 是一个激活函数，用于引入非线性\n",
    "        # 在卷积层之后使用ReLU激活函数可以增加模型的非线性，使得模型能够学习更复杂的特征\n",
    "        # self.pool1 和 self.pool2 是最大池化层，用于下采样特征图，减少特征图的空间维度\n",
    "        # 通过卷积层和池化层的组合，我们可以提取图片中的重要特征\n",
    "        # 经过两次卷积和池化后，\n",
    "        # 图片的大小从28x28变为4x4，所以输出特征图的形状为 [batch_size, 64, 4, 4]\n",
    "        x = self.pool1(F.relu(self.conv1(x)))\n",
    "        x = self.pool2(F.relu(self.conv2(x)))\n",
    "        # 将特征图展平为一维向量\n",
    "        # torch.flatten() 函数用于将多维张量展平为一维\n",
    "        # start_dim=1 表示从第1维开始展平，保留第0维（batch_size）不变\n",
    "        # 这样可以将形状为 [batch_size, 64, 4, 4] 的张量转换为形状为 [batch_size, 64*4*4] 的张量\n",
    "        # 这里的64是输出通道数，4*4是特征图的空间维度\n",
    "        # 展平后的张量可以直接输入到全连接层进行处理\n",
    "        # 经过展平后，张量的形状变为 [batch_size, 1600]\n",
    "        x = torch.flatten(x, start_dim=1)\n",
    "        # 将展平后的特征向量通过全连接层进行处理\n",
    "        # self.fc1 和 self.fc2 是全连接层，用于将特征向量映射到类别空间\n",
    "        # F.relu() 是一个激活函数，用于引入非线性\n",
    "        # 在全连接层之后使用ReLU激活函数可以增加模型的非线性，使得模型能够学习更复杂的特征\n",
    "        # 最终的输出结果是一个形状为 [batch_size, num_classes] 的张量\n",
    "        # 其中 num_classes 是图片的类别数\n",
    "        # 对于MNIST数据集，num_classes=10\n",
    "        # 这意味着模型将输出一个长度为10的向量，每个元素表示\n",
    "        # 对应类别的预测分数\n",
    "        # 最终的分类结果将通过softmax函数转换为概率分布\n",
    "        # softmax函数将输出向量中的每个元素转换为一个概率值，\n",
    "        # 所有概率值的和为1\n",
    "        x = F.relu(self.fc1(x))\n",
    "        # 将激活后的特征向量通过第二个全连接层进行处理\n",
    "        x = self.fc2(x)\n",
    "       \n",
    "        return x"
   ]
  },
  {
   "cell_type": "code",
   "execution_count": 7,
   "id": "99d8f906",
   "metadata": {},
   "outputs": [
    {
     "data": {
      "text/plain": [
       "=================================================================\n",
       "Layer (type:depth-idx)                   Param #\n",
       "=================================================================\n",
       "Model                                    --\n",
       "├─Conv2d: 1-1                            320\n",
       "├─MaxPool2d: 1-2                         --\n",
       "├─Conv2d: 1-3                            18,496\n",
       "├─MaxPool2d: 1-4                         --\n",
       "├─Linear: 1-5                            102,464\n",
       "├─Linear: 1-6                            650\n",
       "=================================================================\n",
       "Total params: 121,930\n",
       "Trainable params: 121,930\n",
       "Non-trainable params: 0\n",
       "================================================================="
      ]
     },
     "execution_count": 7,
     "metadata": {},
     "output_type": "execute_result"
    }
   ],
   "source": [
    "from torchinfo import summary\n",
    "# 将模型转移到GPU中（我们模型运行均在GPU中进行）\n",
    "model = Model().to(device)\n",
    "\n",
    "summary(model)"
   ]
  },
  {
   "cell_type": "code",
   "execution_count": 8,
   "id": "ead12f54",
   "metadata": {},
   "outputs": [],
   "source": [
    "# 定义损失函数和优化器\n",
    "# nn.CrossEntropyLoss() 是一个用于多分类问题的损失函数\n",
    "# 它结合了 softmax 函数和交叉熵损失函数，\n",
    "# 可以直接用于多分类问题的训练\n",
    "# 它的输入是模型的输出（未经过 softmax 函数处理的 logits），\n",
    "# 输出是一个标量，表示模型的损失值\n",
    "# 这个损失函数会自动计算 softmax 函数的输出，并与目标标签进行比较，\n",
    "# 计算出模型的损失值\n",
    "# 这个损失函数适用于多分类问题，特别是当类别数大于2 时\n",
    "# 它可以处理多类别的分类问题，并且可以处理不平衡\n",
    "# 类别的情况\n",
    "# 例如，对于 MNIST 数据集，模型的输出是一个长度为 10 的\n",
    "# 向量，每个元素表示对应类别的预测分数\n",
    "loss_fn    = nn.CrossEntropyLoss() # 创建损失函数\n",
    "\n",
    "# torch.optim.SGD 是一个随机梯度下降优化器，用于更新模型的参数\n",
    "# 它的输入是模型的参数和学习率\n",
    "# 学习率是一个超参数，用于控制模型参数更新的步长\n",
    "# 学习率过大会导致模型不收敛，学习率过小会导致模型收敛速度过慢\n",
    "# 在这里，我们将学习率设置为 1e-2，即 0.01\n",
    "# 这个学习率是一个常用的初始学习率，可以根据实际情况进行调整\n",
    "# 优化器会根据损失函数的梯度信息来更新模型的参数\n",
    "# 在每次迭代中，优化器会计算损失函数的梯度\n",
    "# 然后根据学习率和梯度信息来更新模型的参数\n",
    "# 例如，如果模型的参数是 w，损失函数的梯度是 dw，\n",
    "# 那么优化器会将 w 更新为 w - learn_rate * dw\n",
    "# 这样可以使模型的参数朝着最小化损失函数的方向更新\n",
    "# 这里的 learn_rate 是一个超参数，用于控制模型参数更新的步长\n",
    "# 在训练过程中，我们会不断地使用优化器来更新模型的参数，\n",
    "# 以使模型的损失函数逐渐减小，从而提高模型的性能\n",
    "learn_rate = 1e-2 # 学习率\n",
    "\n",
    "# 创建优化器\n",
    "# torch.optim.SGD 是一个随机梯度下降优化器，用于更新模型的参数        \n",
    "opt= torch.optim.SGD(model.parameters(),lr=learn_rate)"
   ]
  },
  {
   "cell_type": "code",
   "execution_count": 9,
   "id": "b255e3c9",
   "metadata": {},
   "outputs": [],
   "source": [
    "# 训练循环\n",
    "def train(dataloader, model, loss_fn, optimizer):\n",
    "    \"\"\"    训练函数\n",
    "    :param dataloader: 数据加载器\n",
    "    :param model: 待训练的模型\n",
    "    :param loss_fn: 损失函数\n",
    "    :param optimizer: 优化器\n",
    "    \"\"\"\n",
    "    size = len(dataloader.dataset)  # 训练集的大小，一共60000张图片\n",
    "    num_batches = len(dataloader)   # 批次数目，1875（60000/32）\n",
    "\n",
    "    train_loss, train_acc = 0, 0  # 初始化训练损失和正确率\n",
    "    \n",
    "    for X, y in dataloader:  # 获取图片及其标签\n",
    "        X, y = X.to(device), y.to(device)\n",
    "        \n",
    "        # 计算预测误差\n",
    "        pred = model(X)          # 网络输出\n",
    "        loss = loss_fn(pred, y)  # 计算网络输出和真实值之间的差距，targets为真实值，计算二者差值即为损失\n",
    "        \n",
    "        # 反向传播\n",
    "        # optimizer.zero_grad() 用于将优化器中的梯度清零\n",
    "        # loss.backward() 用于计算损失函数的梯度\n",
    "        # optimizer.step() 用于更新模型的参数\n",
    "        # 这三个步骤是训练模型的核心部分\n",
    "        # 在每次迭代中，我们需要清零梯度，计算梯度，\n",
    "        # 然后更新模型的参数\n",
    "        # 这样可以使模型的参数朝着最小化损失函数的方向更新参数\n",
    "        # optimizer.zero_grad() 用于将优化器中的梯度清零\n",
    "        # 这一步是为了避免梯度累积，因为在每次迭代中，\n",
    "        # 优化器会将梯度累积到之前的梯度上\n",
    "        # 如果不清零梯度，梯度会不断累积，导致模型参数更新不正确\n",
    "        # loss.backward() 用于计算损失函数的梯度\n",
    "        # 这一步是为了计算损失函数对模型参数的梯度\n",
    "        # 通过计算梯度，我们可以知道模型参数应该如何更新\n",
    "        # optimizer.step() 用于更新模型的参数\n",
    "        # 这一步是根据损失函数的梯度信息来更新模型的参数\n",
    "        # 优化器会根据学习率和梯度信息来更新模型的参数\n",
    "        # 例如，如果模型的参数是 w，损失函数的梯度是 dw\n",
    "        # 那么优化器会将 w 更新为 w - learn_rate * dw\n",
    "        # 这样可以使模型的参数朝着最小化损失函数的方向更新参数\n",
    "        optimizer.zero_grad()  # grad属性归零\n",
    "        loss.backward()        # 反向传播\n",
    "        optimizer.step()       # 每一步自动更新\n",
    "        \n",
    "        # 记录acc与loss\n",
    "        # pred.argmax(1) 返回每个样本预测的类别索引\n",
    "        # y 是每个样本的真实类别标签\n",
    "        # (pred.argmax(1) == y) 返回一个布尔张量，表示每个样本的预测是否正确\n",
    "        # .type(torch.float) 将布尔张量转换为浮点数张量\n",
    "        # .sum().item() 计算正确预测的样本数量\n",
    "        # train_acc 记录正确预测的样本数量, 是正确预测的样本数量除以训练集的大小\n",
    "        # train_loss 记录当前批次的损失值,是所有批次的损失值之和除以批次数\n",
    "        # 这样可以得到训练集上的平均正确率和平均损失\n",
    "        # 最终的 train_acc 和 train_loss 分别表示训练集上的正确率和平均损失,可以用来评估模型的性能\n",
    "        # 如果训练集上的平均正确率较高，平均损失较低\n",
    "        # 说明模型在训练集上表现良好，能够较好地拟合数据\n",
    "        # 如果训练集上的平均正确率较低，平均损失较高\n",
    "        # 说明模型在训练集上表现较差，可能存在过拟合或欠拟合的情况\n",
    "        # 训练集上的平均正确率和平均损失可以用来调整模型的超参数\n",
    "        # 例如，可以通过调整学习率、批次大小、网络结构等超参数来提高模型在训练集上的性能\n",
    "        # 训练集上的平均正确率和平均损失可以用来监控模型的训练过程\n",
    "        # 在每个epoch结束时，可以打印训练集上的平均正确率和平均损失，以便观察模型的训练情况\n",
    "        # 如果训练集上的平均正确率逐渐提高，平均损失逐渐降低\n",
    "        # 说明模型在训练过程中逐渐学习到了数据的特征\n",
    "        # 如果训练集上的平均正确率没有明显变化，平均损失没有明显降低\n",
    "        # 说明模型可能已经收敛，或者存在过拟合或欠拟合的情况\n",
    "        # 在这种情况下，可以尝试调整模型的超参数，或者使用更复杂的模型来提高模型的性能\n",
    "        # 训练集上的平均正确率和平均损失可以用来评估模型\n",
    "        train_acc  += (pred.argmax(1) == y).type(torch.float).sum().item()\n",
    "        train_loss += loss.item()\n",
    "            \n",
    "    train_acc  /= size\n",
    "    train_loss /= num_batches\n",
    "\n",
    "    return train_acc, train_loss"
   ]
  },
  {
   "cell_type": "code",
   "execution_count": null,
   "id": "cb70510a",
   "metadata": {},
   "outputs": [
    {
     "ename": "",
     "evalue": "",
     "output_type": "error",
     "traceback": [
      "\u001b[1;31mThe Kernel crashed while executing code in the current cell or a previous cell. \n",
      "\u001b[1;31mPlease review the code in the cell(s) to identify a possible cause of the failure. \n",
      "\u001b[1;31mClick <a href='https://aka.ms/vscodeJupyterKernelCrash'>here</a> for more info. \n",
      "\u001b[1;31mView Jupyter <a href='command:jupyter.viewOutput'>log</a> for further details."
     ]
    }
   ],
   "source": [
    "def test (dataloader, model, loss_fn):\n",
    "    \"\"\"测试函数\n",
    "    :param dataloader: 数据加载器\n",
    "    :param model: 待测试的模型\n",
    "    :param loss_fn: 损失函数\n",
    "    \"\"\"\n",
    "    size = len(dataloader.dataset)  # 测试集的大小，一共10000张图片\n",
    "    num_batches = len(dataloader)          # 批次数目，313（10000/32=312.5，向上取整）\n",
    "    test_loss, test_acc = 0, 0\n",
    "    \n",
    "    # 当不进行训练时，停止梯度更新，节省计算内存消耗\n",
    "    with torch.no_grad():\n",
    "        for imgs, target in dataloader:\n",
    "            imgs, target = imgs.to(device), target.to(device)\n",
    "            \n",
    "            # 计算loss\n",
    "            target_pred = model(imgs)\n",
    "            loss        = loss_fn(target_pred, target)\n",
    "            \n",
    "            test_loss += loss.item()\n",
    "            test_acc  += (target_pred.argmax(1) == target).type(torch.float).sum().item()\n",
    "\n",
    "    test_acc  /= size\n",
    "    test_loss /= num_batches\n",
    "\n",
    "    return test_acc, test_loss"
   ]
  },
  {
   "cell_type": "code",
   "execution_count": null,
   "id": "167e689b",
   "metadata": {},
   "outputs": [],
   "source": [
    "# 训练模型\n",
    "# 训练模型的过程包括多个epoch，每个epoch包含多个批次（batch）\n",
    "epochs     = 5\n",
    "train_loss = []\n",
    "train_acc  = []\n",
    "test_loss  = []\n",
    "test_acc   = []\n",
    "\n",
    "for epoch in range(epochs):\n",
    "    # 每个epoch开始时，先将模型设置为训练模式\n",
    "    # 这会启用模型中的一些特定于训练的功能，例如 dropout 和 batch normalization\n",
    "    model.train()\n",
    "    epoch_train_acc, epoch_train_loss = train(train_dl, model, loss_fn, opt)\n",
    "    \n",
    "    \n",
    "    model.eval() # 将模型设置为评估模式\n",
    "    # 在评估模式下，模型不会进行梯度更新，也不会启用 dropout\n",
    "    # 这使得模型在测试集上的表现更加稳定\n",
    "    epoch_test_acc, epoch_test_loss = test(test_dl, model, loss_fn) \n",
    "    \n",
    "    train_acc.append(epoch_train_acc)\n",
    "    train_loss.append(epoch_train_loss)\n",
    "    test_acc.append(epoch_test_acc)\n",
    "    test_loss.append(epoch_test_loss)\n",
    "    \n",
    "    template = ('Epoch:{:2d}, Train_acc:{:.1f}%, Train_loss:{:.3f}, Test_acc:{:.1f}%，Test_loss:{:.3f}')\n",
    "    print(template.format(epoch+1, epoch_train_acc*100, epoch_train_loss, epoch_test_acc*100, epoch_test_loss))\n",
    "print('Done')"
   ]
  }
 ],
 "metadata": {
  "kernelspec": {
   "display_name": "DL_course",
   "language": "python",
   "name": "python3"
  },
  "language_info": {
   "codemirror_mode": {
    "name": "ipython",
    "version": 3
   },
   "file_extension": ".py",
   "mimetype": "text/x-python",
   "name": "python",
   "nbconvert_exporter": "python",
   "pygments_lexer": "ipython3",
   "version": "3.8.20"
  }
 },
 "nbformat": 4,
 "nbformat_minor": 5
}
